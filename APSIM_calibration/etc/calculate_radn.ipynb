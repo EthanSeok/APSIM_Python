{
 "cells": [
  {
   "cell_type": "code",
   "execution_count": 18,
   "outputs": [],
   "source": [
    "import pandas as pd\n",
    "import numpy as np\n",
    "import math"
   ],
   "metadata": {
    "collapsed": false,
    "pycharm": {
     "name": "#%%\n"
    }
   }
  },
  {
   "cell_type": "code",
   "execution_count": 26,
   "metadata": {
    "collapsed": true,
    "pycharm": {
     "name": "#%%\n"
    }
   },
   "outputs": [
    {
     "data": {
      "text/plain": "   Unnamed: 0          날짜  월  일  평균기온  평균습도  평균풍속  일조시간  풍속계높이\n0           0  2007-01-01  1  1   6.0  42.0   2.5   5.0     10\n1           1  2007-01-02  1  2   5.6  73.8   2.6   1.0     10\n2           2  2007-01-03  1  3   4.4  77.3   2.1   0.0     10\n3           3  2007-01-04  1  4   4.8  71.3   2.9   3.5     10\n4           4  2007-01-05  1  5   4.7  71.6   2.4   0.0     10",
      "text/html": "<div>\n<style scoped>\n    .dataframe tbody tr th:only-of-type {\n        vertical-align: middle;\n    }\n\n    .dataframe tbody tr th {\n        vertical-align: top;\n    }\n\n    .dataframe thead th {\n        text-align: right;\n    }\n</style>\n<table border=\"1\" class=\"dataframe\">\n  <thead>\n    <tr style=\"text-align: right;\">\n      <th></th>\n      <th>Unnamed: 0</th>\n      <th>날짜</th>\n      <th>월</th>\n      <th>일</th>\n      <th>평균기온</th>\n      <th>평균습도</th>\n      <th>평균풍속</th>\n      <th>일조시간</th>\n      <th>풍속계높이</th>\n    </tr>\n  </thead>\n  <tbody>\n    <tr>\n      <th>0</th>\n      <td>0</td>\n      <td>2007-01-01</td>\n      <td>1</td>\n      <td>1</td>\n      <td>6.0</td>\n      <td>42.0</td>\n      <td>2.5</td>\n      <td>5.0</td>\n      <td>10</td>\n    </tr>\n    <tr>\n      <th>1</th>\n      <td>1</td>\n      <td>2007-01-02</td>\n      <td>1</td>\n      <td>2</td>\n      <td>5.6</td>\n      <td>73.8</td>\n      <td>2.6</td>\n      <td>1.0</td>\n      <td>10</td>\n    </tr>\n    <tr>\n      <th>2</th>\n      <td>2</td>\n      <td>2007-01-03</td>\n      <td>1</td>\n      <td>3</td>\n      <td>4.4</td>\n      <td>77.3</td>\n      <td>2.1</td>\n      <td>0.0</td>\n      <td>10</td>\n    </tr>\n    <tr>\n      <th>3</th>\n      <td>3</td>\n      <td>2007-01-04</td>\n      <td>1</td>\n      <td>4</td>\n      <td>4.8</td>\n      <td>71.3</td>\n      <td>2.9</td>\n      <td>3.5</td>\n      <td>10</td>\n    </tr>\n    <tr>\n      <th>4</th>\n      <td>4</td>\n      <td>2007-01-05</td>\n      <td>1</td>\n      <td>5</td>\n      <td>4.7</td>\n      <td>71.6</td>\n      <td>2.4</td>\n      <td>0.0</td>\n      <td>10</td>\n    </tr>\n  </tbody>\n</table>\n</div>"
     },
     "execution_count": 26,
     "metadata": {},
     "output_type": "execute_result"
    }
   ],
   "source": [
    "df = pd.read_csv(\"../output/weather_csv/Gangneung_weather.csv\")\n",
    "df.head()"
   ]
  },
  {
   "cell_type": "code",
   "execution_count": 20,
   "outputs": [],
   "source": [
    "df['북위'] = 37.54\n",
    "df['해발고도'] = 28"
   ],
   "metadata": {
    "collapsed": false,
    "pycharm": {
     "name": "#%%\n"
    }
   }
  },
  {
   "cell_type": "markdown",
   "source": [],
   "metadata": {
    "collapsed": false,
    "pycharm": {
     "name": "#%% md\n"
    }
   }
  },
  {
   "cell_type": "code",
   "execution_count": 21,
   "outputs": [],
   "source": [
    "df['u_2'] = df['평균풍속'] * 4.87 / np.log(67.8 * df['풍속계높이'] - 5.42)\n",
    "df['P'] = 101.3 * ((293 - 0.0065 * df['해발고도']) / 293) ** 5.26\n",
    "df['Δ'] = df['평균기온'].apply(lambda x:4098 * (0.6108 * np.exp((17.27 * x) / (x + 237.3))) / (x + 237.3) ** 2)\n",
    "df['gamma'] = 0.665 * 10 ** (-3) * df['P']\n",
    "# P\n",
    "df['A'] = 1 + 0.34 * df['u_2']\n",
    "# Q\n",
    "df['B'] = df['Δ'] / (df['Δ'] + df['gamma'] * df['A'])\n",
    "# R\n",
    "df['C'] = df['gamma'] / (df['Δ'] + df['gamma'] * df['A'])\n",
    "# S\n",
    "df['D'] = 900 / (df['평균기온'] + 273) * df['u_2']\n",
    "df['e_s'] = df['평균기온'].apply(lambda x: 0.6108 * np.exp((17.27 * x) / (x + 237.3)))\n",
    "df['e_a'] = df['평균습도'] / 100 * df['e_s']\n",
    "df['e_s-e_a'] = df['e_s'] - df['e_a']\n",
    "df['doi'] = pd.to_datetime(df['날짜']).dt.strftime('%j')\n",
    "df['doi'] = df['doi'].apply(pd.to_numeric)\n",
    "df['dr'] = df['doi'].apply(lambda x: 1 + 0.033 * np.cos(2 * 3.141592 / 365 * x))\n",
    "df['δ'] = df['doi'].apply(lambda x: 0.409 * np.sin(2 * 3.141592 / 365 * x - 1.39))\n",
    "df['Φ'] = df['북위'] * math.pi / 180\n",
    "df['ω_s'] = np.arccos(-df['Φ'].apply(lambda x: np.tan(x))*df['δ'].apply(lambda x: np.tan(x)))\n",
    "\n",
    "\n",
    "df['Ra'] = 24 * 60 / math.pi * 0.082 * df['dr'] *\\\n",
    "           (df['ω_s']*df['δ'].apply(lambda x: math.sin(x))*\n",
    "            df['Φ'].apply(lambda x: math.sin(x))+\n",
    "            df['Φ'].apply(lambda x: math.cos(x))*\n",
    "            df['δ'].apply(lambda x: math.cos(x))*\n",
    "            df['ω_s'].apply(lambda x: math.sin(x)))\n",
    "df['N'] = 24/math.pi*df['ω_s']\n",
    "df['Rs'] = (0.25+0.5*df['일조시간']/df['N'])*df['Ra']\n",
    "df['Rso'] = (0.75 + 2 * 10 ** (-5) * df['해발고도']) * df['Ra']\n",
    "df['Rs/Rso'] = df['Rs'] / df['Rso']\n",
    "df['R_ns'] = 0.77 * df['Rs']\n",
    "df['R_nl'] = 4.903*10**(-9)*(df['평균기온']+273.16)**4*(0.34-0.14*df['e_a']**(0.5))*(1.35*df['Rs/Rso']-0.35)\n",
    "df['Rn'] = df['R_ns'] - df['R_nl']"
   ],
   "metadata": {
    "collapsed": false,
    "pycharm": {
     "name": "#%%\n"
    }
   }
  },
  {
   "cell_type": "code",
   "execution_count": 22,
   "outputs": [
    {
     "data": {
      "text/plain": "      Unnamed: 0          날짜   월   일  평균기온  평균습도  평균풍속  일조시간  풍속계높이     북위  \\\n0              0  2007-01-01   1   1   6.0  42.0   2.5   5.0     10  37.54   \n1              1  2007-01-02   1   2   5.6  73.8   2.6   1.0     10  37.54   \n2              2  2007-01-03   1   3   4.4  77.3   2.1   0.0     10  37.54   \n3              3  2007-01-04   1   4   4.8  71.3   2.9   3.5     10  37.54   \n4              4  2007-01-05   1   5   4.7  71.6   2.4   0.0     10  37.54   \n...          ...         ...  ..  ..   ...   ...   ...   ...    ...    ...   \n5109         361  2020-12-27  12  27   8.4  43.4   2.0   4.0     10  37.54   \n5110         362  2020-12-28  12  28   8.7  58.8   2.2   8.1     10  37.54   \n5111         363  2020-12-29  12  29   5.4  59.0   2.5   2.3     10  37.54   \n5112         364  2020-12-30  12  30  -5.3  35.0   4.4   6.5     10  37.54   \n5113         365  2020-12-31  12  31  -5.3  34.3   4.4   8.7     10  37.54   \n\n      ...         Φ       ω_s         Ra         N         Rs        Rso  \\\n0     ...  0.655197  1.238935  15.356465  9.464766   7.895335  11.525949   \n1     ...  0.655197  1.240319  15.411643  9.475338   4.666161  11.567362   \n2     ...  0.655197  1.241813  15.471234  9.486756   3.867809  11.612090   \n3     ...  0.655197  1.243418  15.535225  9.499012   6.745856  11.660119   \n4     ...  0.655197  1.245131  15.603600  9.512099   3.900900  11.711438   \n...   ...       ...       ...        ...       ...        ...        ...   \n5109  ...  0.655197  1.234526  15.180152  9.431084   7.014212  11.393615   \n5110  ...  0.655197  1.235458  15.217547  9.438201  10.334346  11.421682   \n5111  ...  0.655197  1.236503  15.259404  9.446191   5.672564  11.453099   \n5112  ...  0.655197  1.237663  15.305713  9.455048   9.087487  11.487856   \n5113  ...  0.655197  1.238935  15.356461  9.464765  10.896935  11.525946   \n\n        Rs/Rso      R_ns      R_nl        Rn  \n0     0.685005  6.079408  4.317299  1.762109  \n1     0.403390  3.592944  1.297883  2.295061  \n2     0.333085  2.978213  0.659584  2.318629  \n3     0.578541  5.194309  2.906052  2.288257  \n4     0.333085  3.003693  0.671427  2.332266  \n...        ...       ...       ...       ...  \n5109  0.615627  5.400943  3.604778  1.796165  \n5110  0.904801  7.957446  6.098458  1.858988  \n5111  0.495286  4.367875  2.240222  2.127653  \n5112  0.791052  6.997365  5.197994  1.799372  \n5113  0.945427  8.390640  6.719416  1.671224  \n\n[5114 rows x 35 columns]",
      "text/html": "<div>\n<style scoped>\n    .dataframe tbody tr th:only-of-type {\n        vertical-align: middle;\n    }\n\n    .dataframe tbody tr th {\n        vertical-align: top;\n    }\n\n    .dataframe thead th {\n        text-align: right;\n    }\n</style>\n<table border=\"1\" class=\"dataframe\">\n  <thead>\n    <tr style=\"text-align: right;\">\n      <th></th>\n      <th>Unnamed: 0</th>\n      <th>날짜</th>\n      <th>월</th>\n      <th>일</th>\n      <th>평균기온</th>\n      <th>평균습도</th>\n      <th>평균풍속</th>\n      <th>일조시간</th>\n      <th>풍속계높이</th>\n      <th>북위</th>\n      <th>...</th>\n      <th>Φ</th>\n      <th>ω_s</th>\n      <th>Ra</th>\n      <th>N</th>\n      <th>Rs</th>\n      <th>Rso</th>\n      <th>Rs/Rso</th>\n      <th>R_ns</th>\n      <th>R_nl</th>\n      <th>Rn</th>\n    </tr>\n  </thead>\n  <tbody>\n    <tr>\n      <th>0</th>\n      <td>0</td>\n      <td>2007-01-01</td>\n      <td>1</td>\n      <td>1</td>\n      <td>6.0</td>\n      <td>42.0</td>\n      <td>2.5</td>\n      <td>5.0</td>\n      <td>10</td>\n      <td>37.54</td>\n      <td>...</td>\n      <td>0.655197</td>\n      <td>1.238935</td>\n      <td>15.356465</td>\n      <td>9.464766</td>\n      <td>7.895335</td>\n      <td>11.525949</td>\n      <td>0.685005</td>\n      <td>6.079408</td>\n      <td>4.317299</td>\n      <td>1.762109</td>\n    </tr>\n    <tr>\n      <th>1</th>\n      <td>1</td>\n      <td>2007-01-02</td>\n      <td>1</td>\n      <td>2</td>\n      <td>5.6</td>\n      <td>73.8</td>\n      <td>2.6</td>\n      <td>1.0</td>\n      <td>10</td>\n      <td>37.54</td>\n      <td>...</td>\n      <td>0.655197</td>\n      <td>1.240319</td>\n      <td>15.411643</td>\n      <td>9.475338</td>\n      <td>4.666161</td>\n      <td>11.567362</td>\n      <td>0.403390</td>\n      <td>3.592944</td>\n      <td>1.297883</td>\n      <td>2.295061</td>\n    </tr>\n    <tr>\n      <th>2</th>\n      <td>2</td>\n      <td>2007-01-03</td>\n      <td>1</td>\n      <td>3</td>\n      <td>4.4</td>\n      <td>77.3</td>\n      <td>2.1</td>\n      <td>0.0</td>\n      <td>10</td>\n      <td>37.54</td>\n      <td>...</td>\n      <td>0.655197</td>\n      <td>1.241813</td>\n      <td>15.471234</td>\n      <td>9.486756</td>\n      <td>3.867809</td>\n      <td>11.612090</td>\n      <td>0.333085</td>\n      <td>2.978213</td>\n      <td>0.659584</td>\n      <td>2.318629</td>\n    </tr>\n    <tr>\n      <th>3</th>\n      <td>3</td>\n      <td>2007-01-04</td>\n      <td>1</td>\n      <td>4</td>\n      <td>4.8</td>\n      <td>71.3</td>\n      <td>2.9</td>\n      <td>3.5</td>\n      <td>10</td>\n      <td>37.54</td>\n      <td>...</td>\n      <td>0.655197</td>\n      <td>1.243418</td>\n      <td>15.535225</td>\n      <td>9.499012</td>\n      <td>6.745856</td>\n      <td>11.660119</td>\n      <td>0.578541</td>\n      <td>5.194309</td>\n      <td>2.906052</td>\n      <td>2.288257</td>\n    </tr>\n    <tr>\n      <th>4</th>\n      <td>4</td>\n      <td>2007-01-05</td>\n      <td>1</td>\n      <td>5</td>\n      <td>4.7</td>\n      <td>71.6</td>\n      <td>2.4</td>\n      <td>0.0</td>\n      <td>10</td>\n      <td>37.54</td>\n      <td>...</td>\n      <td>0.655197</td>\n      <td>1.245131</td>\n      <td>15.603600</td>\n      <td>9.512099</td>\n      <td>3.900900</td>\n      <td>11.711438</td>\n      <td>0.333085</td>\n      <td>3.003693</td>\n      <td>0.671427</td>\n      <td>2.332266</td>\n    </tr>\n    <tr>\n      <th>...</th>\n      <td>...</td>\n      <td>...</td>\n      <td>...</td>\n      <td>...</td>\n      <td>...</td>\n      <td>...</td>\n      <td>...</td>\n      <td>...</td>\n      <td>...</td>\n      <td>...</td>\n      <td>...</td>\n      <td>...</td>\n      <td>...</td>\n      <td>...</td>\n      <td>...</td>\n      <td>...</td>\n      <td>...</td>\n      <td>...</td>\n      <td>...</td>\n      <td>...</td>\n      <td>...</td>\n    </tr>\n    <tr>\n      <th>5109</th>\n      <td>361</td>\n      <td>2020-12-27</td>\n      <td>12</td>\n      <td>27</td>\n      <td>8.4</td>\n      <td>43.4</td>\n      <td>2.0</td>\n      <td>4.0</td>\n      <td>10</td>\n      <td>37.54</td>\n      <td>...</td>\n      <td>0.655197</td>\n      <td>1.234526</td>\n      <td>15.180152</td>\n      <td>9.431084</td>\n      <td>7.014212</td>\n      <td>11.393615</td>\n      <td>0.615627</td>\n      <td>5.400943</td>\n      <td>3.604778</td>\n      <td>1.796165</td>\n    </tr>\n    <tr>\n      <th>5110</th>\n      <td>362</td>\n      <td>2020-12-28</td>\n      <td>12</td>\n      <td>28</td>\n      <td>8.7</td>\n      <td>58.8</td>\n      <td>2.2</td>\n      <td>8.1</td>\n      <td>10</td>\n      <td>37.54</td>\n      <td>...</td>\n      <td>0.655197</td>\n      <td>1.235458</td>\n      <td>15.217547</td>\n      <td>9.438201</td>\n      <td>10.334346</td>\n      <td>11.421682</td>\n      <td>0.904801</td>\n      <td>7.957446</td>\n      <td>6.098458</td>\n      <td>1.858988</td>\n    </tr>\n    <tr>\n      <th>5111</th>\n      <td>363</td>\n      <td>2020-12-29</td>\n      <td>12</td>\n      <td>29</td>\n      <td>5.4</td>\n      <td>59.0</td>\n      <td>2.5</td>\n      <td>2.3</td>\n      <td>10</td>\n      <td>37.54</td>\n      <td>...</td>\n      <td>0.655197</td>\n      <td>1.236503</td>\n      <td>15.259404</td>\n      <td>9.446191</td>\n      <td>5.672564</td>\n      <td>11.453099</td>\n      <td>0.495286</td>\n      <td>4.367875</td>\n      <td>2.240222</td>\n      <td>2.127653</td>\n    </tr>\n    <tr>\n      <th>5112</th>\n      <td>364</td>\n      <td>2020-12-30</td>\n      <td>12</td>\n      <td>30</td>\n      <td>-5.3</td>\n      <td>35.0</td>\n      <td>4.4</td>\n      <td>6.5</td>\n      <td>10</td>\n      <td>37.54</td>\n      <td>...</td>\n      <td>0.655197</td>\n      <td>1.237663</td>\n      <td>15.305713</td>\n      <td>9.455048</td>\n      <td>9.087487</td>\n      <td>11.487856</td>\n      <td>0.791052</td>\n      <td>6.997365</td>\n      <td>5.197994</td>\n      <td>1.799372</td>\n    </tr>\n    <tr>\n      <th>5113</th>\n      <td>365</td>\n      <td>2020-12-31</td>\n      <td>12</td>\n      <td>31</td>\n      <td>-5.3</td>\n      <td>34.3</td>\n      <td>4.4</td>\n      <td>8.7</td>\n      <td>10</td>\n      <td>37.54</td>\n      <td>...</td>\n      <td>0.655197</td>\n      <td>1.238935</td>\n      <td>15.356461</td>\n      <td>9.464765</td>\n      <td>10.896935</td>\n      <td>11.525946</td>\n      <td>0.945427</td>\n      <td>8.390640</td>\n      <td>6.719416</td>\n      <td>1.671224</td>\n    </tr>\n  </tbody>\n</table>\n<p>5114 rows × 35 columns</p>\n</div>"
     },
     "execution_count": 22,
     "metadata": {},
     "output_type": "execute_result"
    }
   ],
   "source": [
    "df"
   ],
   "metadata": {
    "collapsed": false,
    "pycharm": {
     "name": "#%%\n"
    }
   }
  }
 ],
 "metadata": {
  "kernelspec": {
   "display_name": "Python 3",
   "language": "python",
   "name": "python3"
  },
  "language_info": {
   "codemirror_mode": {
    "name": "ipython",
    "version": 2
   },
   "file_extension": ".py",
   "mimetype": "text/x-python",
   "name": "python",
   "nbconvert_exporter": "python",
   "pygments_lexer": "ipython2",
   "version": "2.7.6"
  }
 },
 "nbformat": 4,
 "nbformat_minor": 0
}
